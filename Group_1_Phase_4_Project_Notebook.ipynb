{
 "cells": [
  {
   "cell_type": "markdown",
   "id": "ecdc9962-119f-4b86-a634-8f852cc01d0d",
   "metadata": {},
   "source": [
    "# AMAZON CUSTOMER REVIEW"
   ]
  },
  {
   "cell_type": "markdown",
   "id": "cb24dea3-f72e-4e84-b2c7-02b56a7094fd",
   "metadata": {},
   "source": [
    "## 1.0 BUSINESS UNDERSTANDING"
   ]
  },
  {
   "cell_type": "markdown",
   "id": "775bdaf8-2c3a-4874-92d7-b0d19ddea60c",
   "metadata": {},
   "source": [
    "In the online market of today, customer reviews are an essential part of purchasing decisions. Amazon, being a giant online store, collects millions of product reviews that indicate customer satisfaction, product quality, and overall user experience. It is not efficient, however, to process such vast data manually and is time-consuming.\n",
    "\n",
    "Sentiment analysis enables companies to analyze customers' feedback automatically, extract meaningful information, and make knowledgeable"
   ]
  },
  {
   "cell_type": "markdown",
   "id": "d53fca14-8121-44f5-be03-0cbc8d1a9168",
   "metadata": {},
   "source": [
    "## 1.1 PROBLEM STATEMENT"
   ]
  },
  {
   "cell_type": "markdown",
   "id": "a0c43ab3-46c0-4e94-9493-f6da1f1c60f7",
   "metadata": {},
   "source": [
    "Amazon gets millions of reviews, and it's not possible to read them manually. We need an automated system for sentiment analysis to categorize the reviews as positive, negative, or neutral and also to gain insightful information too."
   ]
  },
  {
   "cell_type": "markdown",
   "id": "89a48d87-e101-432e-bb40-97f4cd073176",
   "metadata": {},
   "source": [
    "## 1.2 OBJECTIVES"
   ]
  },
  {
   "cell_type": "markdown",
   "id": "f1fc6d00-6cbc-4d95-b007-f30e92058d8c",
   "metadata": {},
   "source": [
    "## 1.2.1 Main Objectives"
   ]
  },
  {
   "cell_type": "markdown",
   "id": "fa005f60-0274-4563-9d64-2ced5df1e780",
   "metadata": {},
   "source": [
    "To accurately determine the overall emotional tone (positive, negative, or neutral) of customer reviews."
   ]
  },
  {
   "cell_type": "markdown",
   "id": "19b9229d-68ec-4ec1-9da3-24736c12cea6",
   "metadata": {},
   "source": [
    "## 1.2.2 Specific Objectives"
   ]
  },
  {
   "cell_type": "markdown",
   "id": "ebd86fda-55e0-43d7-8f17-ac5bb6f9539b",
   "metadata": {},
   "source": [
    "* Identify trends in customer satisfaction.\n",
    "\n",
    "* Improve customer experience by addressing negative feedback.\n",
    "\n",
    "* Help businesses optimize their product offerings based on user sentiment.\n"
   ]
  },
  {
   "cell_type": "markdown",
   "id": "32ca0d07-bfe8-4e86-bbcd-ed15c19587c5",
   "metadata": {},
   "source": [
    "## 1.3 Business Questions"
   ]
  },
  {
   "cell_type": "markdown",
   "id": "2757c500-dab3-47cd-8ec6-7f6ec654ca57",
   "metadata": {},
   "source": [
    "* What percentage of customer reviews are positive, negative, or neutral?\n",
    "* Are there specific features or keywords associated with  reviews?\n",
    "* Can sentiment analysis help predict potential or customer dissatisfaction?\n",
    "* Can the  business use sentiment insights to improve product quality and customer support?\n"
   ]
  },
  {
   "cell_type": "markdown",
   "id": "4374db04-fc67-4c9f-8513-cde1c27b5678",
   "metadata": {},
   "source": [
    "## 1.4 Metric of Success"
   ]
  },
  {
   "cell_type": "code",
   "execution_count": null,
   "id": "f6f4a8b9-5f41-4e68-9109-d448b81f5826",
   "metadata": {},
   "outputs": [],
   "source": []
  },
  {
   "cell_type": "markdown",
   "id": "237a4f79-cfa0-4f2f-b5d6-8d7834a520d0",
   "metadata": {},
   "source": [
    "# 2.0 DATA UNDERSTANDING"
   ]
  },
  {
   "cell_type": "markdown",
   "id": "0267a756-06e5-4eab-85f5-e4ca713fcd93",
   "metadata": {},
   "source": [
    "The dataset used for this sentiment analysis project consists of Amazon product reviews, which provide insights into customer opinions about various products. It contains 1,597 records with 27 columns, capturing details about the product, review content and user feedback.\n"
   ]
  },
  {
   "cell_type": "markdown",
   "id": "64bcb110-81f0-4314-af66-74ecef8860c8",
   "metadata": {},
   "source": [
    "The dataset comprises of the following columns:"
   ]
  },
  {
   "cell_type": "markdown",
   "id": "58e7bb4e-ef70-4cc2-ba1c-e353523889f6",
   "metadata": {},
   "source": [
    "id → Unique identifier for each review.\n",
    "\n",
    "asins → Amazon Standard Identification Number (ASIN) of the product.\n",
    "\n",
    "brand → Brand of the product.\n",
    "\n",
    "categories → Product categories (e.g., \"Amazon Devices\").\n",
    "\n",
    "colors → Available colors of the product (often missing).\n",
    "\n",
    "dateAdded → Date the review was added to the dataset.\n",
    "\n",
    "dateUpdated → Date the review was last updated.\n",
    "\n",
    "dimension → Physical dimensions of the product.\n",
    "\n",
    "manufacturer → Manufacturer of the product.\n",
    "\n",
    "manufacturerNumber → Manufacturer’s product number.\n",
    "\n",
    "name → Product name.\n",
    "\n",
    "prices → Pricing details of the product.\n",
    "\n",
    "reviews.date → Date when the review was posted.\n",
    "\n",
    "reviews.doRecommend → Whether the reviewer recommends the product (Yes/No).\n",
    "\n",
    "eviews.numHelpful → Number of users who found the review helpful.\n",
    "\n",
    "reviews.rating → Star rating given by the reviewer (1 to 5).\n",
    "\n",
    "reviews.sourceURLs → URL of the original review page.\n",
    "\n",
    "reviews.text → Full text of the review (Main feature for sentiment analysis).\n",
    "\n",
    "reviews.title → Title of the review (Summary of the review).\n",
    "\n",
    "reviews.username → Username of the reviewer.\n",
    "\n",
    "reviews.userCity → City of the reviewer (Mostly missing).\n",
    "\n",
    "reviews.userProvince → Province of the reviewer (Mostly missing).\n",
    "\n",
    "sizes → Available sizes of the product (Mostly empty).\n",
    "\n",
    "upc → Universal Product Code (UPC).\n",
    "                                        \n",
    "weight → Weight of the product."
   ]
  },
  {
   "cell_type": "markdown",
   "id": "21ce1392-4ee4-40e1-b587-d2b34fb266ef",
   "metadata": {},
   "source": [
    "### 2.1 Exploring The Dataset"
   ]
  },
  {
   "cell_type": "code",
   "execution_count": 13,
   "id": "1b8874f1-0005-4c3e-b0c3-426ec3f95755",
   "metadata": {},
   "outputs": [],
   "source": [
    "##import the relevant libraries\n",
    "import pandas as pd\n",
    "import numpy as np\n",
    "import seaborn as sns\n",
    "import matplotlib.pyplot as plt\n",
    "\n",
    "import warnings\n",
    "warnings.filterwarnings(\"ignore\")\n",
    "\n",
    "from nltk.corpus import stopwords\n",
    "from nltk.stem.porter import PorterStemmer\n",
    "from sklearn.feature_extraction.text import TfidfVectorizer\n",
    "from sklearn.model_selection import train_test_split\n",
    "from sklearn.linear_model import LogisticRegression\n",
    "from sklearn.metrics import accuracy_score\n",
    "from sklearn.metrics import roc_curve, auc\n",
    "pd.set_option('display.max_colwidth', None)"
   ]
  },
  {
   "cell_type": "code",
   "execution_count": null,
   "id": "4a5a83d7-8a10-4d8f-b014-bd297a500741",
   "metadata": {},
   "outputs": [],
   "source": []
  }
 ],
 "metadata": {
  "kernelspec": {
   "display_name": "Python 3 (ipykernel)",
   "language": "python",
   "name": "python3"
  },
  "language_info": {
   "codemirror_mode": {
    "name": "ipython",
    "version": 3
   },
   "file_extension": ".py",
   "mimetype": "text/x-python",
   "name": "python",
   "nbconvert_exporter": "python",
   "pygments_lexer": "ipython3",
   "version": "3.12.7"
  }
 },
 "nbformat": 4,
 "nbformat_minor": 5
}
